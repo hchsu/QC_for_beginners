{
 "cells": [
  {
   "cell_type": "code",
   "execution_count": null,
   "metadata": {},
   "outputs": [],
   "source": [
    "%pylab inline\n",
    "# Importing standard Qiskit libraries\n",
    "from qiskit import QuantumCircuit, execute, Aer, IBMQ\n",
    "from qiskit.compiler import transpile, assemble\n",
    "from qiskit.tools.jupyter import *\n",
    "from qiskit.visualization import *\n",
    "\n",
    "# Loading your IBM Q account(s)\n",
    "provider = IBMQ.load_account()"
   ]
  },
  {
   "cell_type": "code",
   "execution_count": null,
   "metadata": {},
   "outputs": [],
   "source": [
    "from qiskit.tools.monitor import backend_overview\n",
    "from qiskit.tools.monitor import job_monitor\n",
    "from qiskit import *"
   ]
  },
  {
   "cell_type": "code",
   "execution_count": null,
   "metadata": {},
   "outputs": [],
   "source": [
    "from qiskit import Aer\n",
    "sim_backend = Aer.get_backend('qasm_simulator')"
   ]
  },
  {
   "cell_type": "markdown",
   "metadata": {},
   "source": [
    "## 1. 用H gate產生一組二進位亂數"
   ]
  },
  {
   "cell_type": "code",
   "execution_count": null,
   "metadata": {},
   "outputs": [],
   "source": [
    "#把二進位位元串換成小數\n",
    "def digit_to_decimal(s):\n",
    "    b_num = list(s.replace('.',''))[::-1]\n",
    "    value = 0\n",
    "    for i in range(len(b_num)):\n",
    "        digit = b_num.pop()\n",
    "        if i==0:continue\n",
    "        if digit == '1':\n",
    "            value = value + pow(2, -i)\n",
    "    return value"
   ]
  },
  {
   "cell_type": "code",
   "execution_count": null,
   "metadata": {},
   "outputs": [],
   "source": [
    "# n為最多的位元數目 \n",
    "n=5\n",
    "#建構量子電路\n",
    "def qcirc():\n",
    "    q=QuantumRegister(n,name='q')\n",
    "    c=ClassicalRegister(n,name='c')\n",
    "    circ=QuantumCircuit(q,c)\n",
    "    circ.h(q)\n",
    "    circ.barrier()\n",
    "    circ.measure(q,c)\n",
    "    return circ"
   ]
  },
  {
   "cell_type": "code",
   "execution_count": null,
   "metadata": {},
   "outputs": [],
   "source": [
    "#執行量子電路，進行一次測量，得到一個二進位的數\n",
    "circ=qcirc()\n",
    "circ.draw(output='mpl')\n",
    "job=execute(circ,backend=sim_backend, shots=1)\n",
    "job_monitor(job)\n",
    "s=list(job.result().get_counts().keys())[0]"
   ]
  },
  {
   "cell_type": "code",
   "execution_count": null,
   "metadata": {},
   "outputs": [],
   "source": [
    "# 把二進位帶入自定義的函數，其函數進行二進位->十進位轉換，而得到一個小數。\n",
    "# 不斷重複執行量子電路，每次都會得到不同的值。\n",
    "print(s)\n",
    "N=digit_to_decimal(s)\n",
    "print(N)"
   ]
  },
  {
   "cell_type": "markdown",
   "metadata": {},
   "source": [
    "## 2. 用蒙地卡羅法估計$\\pi$ 的數值：蒙地卡羅法的概念在於不斷產生亂數，並判斷此亂數是否滿足某條件，最終得到滿足與不滿足某條件的比例。在此我們隨機取一組亂數當為（x,y)座標，若該點滿足$x^2+y^2 <1$，則滿足的數目加一。     \n",
    "#### Code reference: 'https://medium.com/datadriveninvestor/estimating-pi-using-qiskit-ibms-quantum-computing-framework-495857634e63'  accessed Fed. 2021"
   ]
  },
  {
   "cell_type": "code",
   "execution_count": null,
   "metadata": {},
   "outputs": [],
   "source": [
    "def estimate_pi(n_trials):\n",
    "    total_counts = []\n",
    "    for i in range(n_trials*2):\n",
    "        circuit=qcirc()\n",
    "        job = execute(circuit,backend=sim_backend,shots=1)\n",
    "        job_monitor(job)\n",
    "        result = job.result()\n",
    "        counts = result.get_counts(circuit)\n",
    "        total_counts.append(counts)\n",
    "    res = [list(x.keys())[0] for x in total_counts]\n",
    "    digits = [ '0.{}'.format(x) for x in res]\n",
    "    decimals = [digit_to_decimal(x) for x in digits]\n",
    "    xs = decimals[:int(len(res)/2)]\n",
    "    ys = decimals[int(len(res)/2):]\n",
    "    n_couples = len(xs)\n",
    "    m = ((np.asarray(xs)**2 + np.asarray(ys)**2)<1).sum()\n",
    "    return 4.*m/n_couples"
   ]
  },
  {
   "cell_type": "code",
   "execution_count": null,
   "metadata": {},
   "outputs": [],
   "source": [
    "x=estimate_pi()\n",
    "print(x)"
   ]
  },
  {
   "cell_type": "markdown",
   "metadata": {},
   "source": [
    "## 挑戰題：用matplotlib畫出 $\\pi$ 值與取點數目的關係。你有何發現？"
   ]
  },
  {
   "cell_type": "code",
   "execution_count": null,
   "metadata": {},
   "outputs": [],
   "source": []
  }
 ],
 "metadata": {
  "kernelspec": {
   "display_name": "Python 3",
   "language": "python",
   "name": "python3"
  },
  "language_info": {
   "codemirror_mode": {
    "name": "ipython",
    "version": 3
   },
   "file_extension": ".py",
   "mimetype": "text/x-python",
   "name": "python",
   "nbconvert_exporter": "python",
   "pygments_lexer": "ipython3",
   "version": "3.7.3"
  }
 },
 "nbformat": 4,
 "nbformat_minor": 2
}
