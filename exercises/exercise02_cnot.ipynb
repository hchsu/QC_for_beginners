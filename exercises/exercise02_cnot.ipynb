{
 "cells": [
  {
   "cell_type": "markdown",
   "metadata": {},
   "source": [
    "## Exercise 02: 應用CNOT gate進行二進位加法.\n",
    "### 注意：二進位表示法中，每個位元只能有0或1，遇到1+1就要進位"
   ]
  },
  {
   "cell_type": "code",
   "execution_count": null,
   "metadata": {},
   "outputs": [],
   "source": [
    "%matplotlib inline\n",
    "# Importing standard Qiskit libraries\n",
    "from qiskit import QuantumCircuit, execute, Aer, IBMQ\n",
    "from qiskit.compiler import transpile, assemble\n",
    "from qiskit.tools.jupyter import *\n",
    "from qiskit.visualization import *\n",
    "\n",
    "# Loading your IBM Q account(s)\n",
    "provider = IBMQ.load_account()"
   ]
  },
  {
   "cell_type": "code",
   "execution_count": null,
   "metadata": {},
   "outputs": [],
   "source": [
    "from qiskit.tools.monitor import backend_overview\n",
    "from qiskit.tools.monitor import job_monitor\n",
    "from qiskit import *\n",
    "import numpy as np\n",
    "import matplotlib.pyplot as plt"
   ]
  },
  {
   "cell_type": "code",
   "execution_count": null,
   "metadata": {},
   "outputs": [],
   "source": [
    "from qiskit import Aer\n",
    "sim_backend = Aer.get_backend('qasm_simulator')"
   ]
  },
  {
   "cell_type": "markdown",
   "metadata": {},
   "source": [
    "### 先看CNOT 在四個情況下的作用：0,0"
   ]
  },
  {
   "cell_type": "code",
   "execution_count": null,
   "metadata": {},
   "outputs": [],
   "source": [
    "q=QuantumRegister(2,name='q')\n",
    "c=ClassicalRegister(1,name='c')\n",
    "circ00=QuantumCircuit(q,c)\n",
    "circ00.cnot(q[0],q[1])\n",
    "circ00.measure(q[1],c)\n",
    "circ00.draw(output='latex')"
   ]
  },
  {
   "cell_type": "markdown",
   "metadata": {},
   "source": [
    "### 先看CNOT 在四個情況下的作用：0,1 "
   ]
  },
  {
   "cell_type": "code",
   "execution_count": null,
   "metadata": {},
   "outputs": [],
   "source": [
    "q=QuantumRegister(2,name='q')\n",
    "c=ClassicalRegister(1,name='c')\n",
    "circ01=QuantumCircuit(q,c)\n",
    "circ01.x(q[1])\n",
    "circ01.cnot(q[0],q[1])\n",
    "circ01.measure(q[1],c)\n",
    "circ01.draw(output='latex')"
   ]
  },
  {
   "cell_type": "markdown",
   "metadata": {},
   "source": [
    "### 先看CNOT 在四個情況下的作用：1,0"
   ]
  },
  {
   "cell_type": "code",
   "execution_count": null,
   "metadata": {},
   "outputs": [],
   "source": [
    "q=QuantumRegister(2,name='q')\n",
    "c=ClassicalRegister(1,name='c')\n",
    "circ10=QuantumCircuit(q,c)\n",
    "circ10.x(q[0])\n",
    "circ10.cnot(q[0],q[1])\n",
    "circ10.measure(q[1],c)\n",
    "circ10.draw(output='latex')"
   ]
  },
  {
   "cell_type": "markdown",
   "metadata": {},
   "source": [
    "### 先看CNOT 在四個情況下的作用：1,1"
   ]
  },
  {
   "cell_type": "code",
   "execution_count": null,
   "metadata": {},
   "outputs": [],
   "source": [
    "q=QuantumRegister(2,name='q')\n",
    "c=ClassicalRegister(1,name='c')\n",
    "circ11=QuantumCircuit(q,c)\n",
    "circ11.x(q)\n",
    "circ11.cnot(q[0],q[1])\n",
    "circ11.measure(q[1],c)\n",
    "circ11.draw(output='latex')"
   ]
  },
  {
   "cell_type": "code",
   "execution_count": null,
   "metadata": {},
   "outputs": [],
   "source": [
    "job00=execute(circ00,backend=sim_backend)\n",
    "job_monitor(job00)"
   ]
  },
  {
   "cell_type": "code",
   "execution_count": null,
   "metadata": {},
   "outputs": [],
   "source": [
    "job01=execute(circ01,backend=sim_backend)\n",
    "job_monitor(job01)"
   ]
  },
  {
   "cell_type": "code",
   "execution_count": null,
   "metadata": {},
   "outputs": [],
   "source": [
    "job10=execute(circ10,backend=sim_backend)\n",
    "job_monitor(job10)"
   ]
  },
  {
   "cell_type": "code",
   "execution_count": null,
   "metadata": {},
   "outputs": [],
   "source": [
    "job11=execute(circ11,backend=sim_backend)\n",
    "job_monitor(job11)"
   ]
  },
  {
   "cell_type": "code",
   "execution_count": null,
   "metadata": {},
   "outputs": [],
   "source": [
    "count00=job00.result().get_counts()\n",
    "plot_histogram(count00)"
   ]
  },
  {
   "cell_type": "code",
   "execution_count": null,
   "metadata": {},
   "outputs": [],
   "source": [
    "count10=job10.result().get_counts()\n",
    "plot_histogram(count10)"
   ]
  },
  {
   "cell_type": "code",
   "execution_count": null,
   "metadata": {},
   "outputs": [],
   "source": [
    "count01=job01.result().get_counts()\n",
    "plot_histogram(count01)"
   ]
  },
  {
   "cell_type": "code",
   "execution_count": null,
   "metadata": {},
   "outputs": [],
   "source": [
    "count11=job11.result().get_counts()\n",
    "plot_histogram(count11)"
   ]
  },
  {
   "cell_type": "markdown",
   "metadata": {},
   "source": [
    "### 挑戰題：應用CNOT gate進行兩個二進位數的加法.求出最低位元的值。\n",
    "### 注意：二進位表示法中，每個位元只能有0或1，遇到1+1就要進位"
   ]
  },
  {
   "cell_type": "code",
   "execution_count": null,
   "metadata": {},
   "outputs": [],
   "source": []
  }
 ],
 "metadata": {
  "kernelspec": {
   "display_name": "Python 3",
   "language": "python",
   "name": "python3"
  },
  "language_info": {
   "codemirror_mode": {
    "name": "ipython",
    "version": 3
   },
   "file_extension": ".py",
   "mimetype": "text/x-python",
   "name": "python",
   "nbconvert_exporter": "python",
   "pygments_lexer": "ipython3",
   "version": "3.7.3"
  }
 },
 "nbformat": 4,
 "nbformat_minor": 2
}
